{
 "cells": [
  {
   "cell_type": "code",
   "execution_count": null,
   "metadata": {},
   "outputs": [],
   "source": [
    "from qiskit import QuantumCircuit, transpile\n",
    "from qiskit_aer import AerSimulator\n",
    "from qiskit.circuit.library import QFT\n",
    "\n",
    "\n",
    "from util_gates import c_exp_2_mod31, c_exp_15_mod31\n",
    "from utils import  converte_counts, find_period"
   ]
  },
  {
   "cell_type": "code",
   "execution_count": null,
   "metadata": {},
   "outputs": [],
   "source": [
    "\"\"\"CHANGE THIS CELL\"\"\"\n",
    "n_qubits =0\n",
    "qc = QuantumCircuit(0,0)"
   ]
  },
  {
   "cell_type": "code",
   "execution_count": null,
   "metadata": {},
   "outputs": [],
   "source": [
    "simulator_aer = AerSimulator()\n",
    "qc_aer = transpile(qc, backend=simulator_aer)\n",
    "results = simulator_aer.run(qc_aer,shots=128,).result()\n",
    "counts = results.get_counts()\n",
    "counts = converte_counts(counts, double_outputs= False)\n",
    "counts = sorted(counts.items(), key=lambda kv: (kv[1], kv[0]), reverse= True)\n",
    "print(len(counts))\n",
    "print(counts)"
   ]
  },
  {
   "cell_type": "code",
   "execution_count": null,
   "metadata": {},
   "outputs": [],
   "source": [
    "\n",
    "for o,co in counts:\n",
    "    if o ==0: continue\n",
    "    r = find_period(o,n_qubits, 15, 31)\n",
    "    if r is None:\n",
    "        print(\"could not find the period with output\", o)"
   ]
  }
 ],
 "metadata": {
  "kernelspec": {
   "display_name": "venv",
   "language": "python",
   "name": "python3"
  },
  "language_info": {
   "name": "python",
   "version": "3.10.12"
  }
 },
 "nbformat": 4,
 "nbformat_minor": 2
}
